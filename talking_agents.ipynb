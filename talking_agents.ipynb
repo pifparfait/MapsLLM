{
 "cells": [
  {
   "cell_type": "code",
   "execution_count": null,
   "metadata": {},
   "outputs": [],
   "source": [
    "import sys\n",
    "!{sys.executable} -m pip install mesa\n",
    "!{sys.executable} -m pip install ollama"
   ]
  },
  {
   "cell_type": "code",
   "execution_count": null,
   "metadata": {},
   "outputs": [],
   "source": [
    "policy_to_discuss = '''\n",
    "Should MIT require all students to take a class on ethics?\n",
    "'''\n",
    "\n",
    "positive_perception = '''\n",
    "Ethics is a fundamental part of any profession. It is important for students to understand the ethical implications of their work.\n",
    "'''\n",
    "\n",
    "negative_perception = '''\n",
    "Students are already overburdened with classes. Adding another requirement would be too much.\n",
    "'''\n",
    "\n",
    "# scenario 1: neutrals talk with positive and negative (only neutrals change their opinion)\n",
    "# scenario 2: negatives talk with positive and neutral (only negatives change their opinion)\n",
    "# scenario 3: positives talk with neutral and negative (only positives change their opinion)\n",
    "# scenario 4: everyone talks with everyone\n",
    "\n",
    "from abm import TalkingAgentsABM\n",
    "\n",
    "abm = TalkingAgentsABM(policy_to_discuss, positive_perception, negative_perception)\n",
    "abm.get_abm_server().launch()"
   ]
  },
  {
   "cell_type": "code",
   "execution_count": null,
   "metadata": {},
   "outputs": [],
   "source": []
  }
 ],
 "metadata": {
  "kernelspec": {
   "display_name": "Python 3",
   "language": "python",
   "name": "python3"
  },
  "language_info": {
   "codemirror_mode": {
    "name": "ipython",
    "version": 3
   },
   "file_extension": ".py",
   "mimetype": "text/x-python",
   "name": "python",
   "nbconvert_exporter": "python",
   "pygments_lexer": "ipython3",
   "version": "3.9.13"
  }
 },
 "nbformat": 4,
 "nbformat_minor": 2
}
