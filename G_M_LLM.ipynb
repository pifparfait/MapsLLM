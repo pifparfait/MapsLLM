{
 "cells": [
  {
   "cell_type": "code",
   "execution_count": 1,
   "metadata": {},
   "outputs": [
    {
     "name": "stdout",
     "output_type": "stream",
     "text": [
      "Requirement already satisfied: mesa in /Users/parfait.atchade/.pyenv/versions/3.10.0/lib/python3.10/site-packages (2.4.0)\n",
      "Requirement already satisfied: networkx in /Users/parfait.atchade/.pyenv/versions/3.10.0/lib/python3.10/site-packages (from mesa) (2.8.8)\n",
      "Requirement already satisfied: cookiecutter in /Users/parfait.atchade/.pyenv/versions/3.10.0/lib/python3.10/site-packages (from mesa) (2.6.0)\n",
      "Requirement already satisfied: solara in /Users/parfait.atchade/.pyenv/versions/3.10.0/lib/python3.10/site-packages (from mesa) (1.39.0)\n",
      "Requirement already satisfied: numpy in /Users/parfait.atchade/.pyenv/versions/3.10.0/lib/python3.10/site-packages (from mesa) (1.26.4)\n",
      "Requirement already satisfied: click in /Users/parfait.atchade/.pyenv/versions/3.10.0/lib/python3.10/site-packages (from mesa) (8.1.7)\n",
      "Requirement already satisfied: mesa-viz-tornado>=0.1.3,~=0.1.0 in /Users/parfait.atchade/.pyenv/versions/3.10.0/lib/python3.10/site-packages (from mesa) (0.1.3)\n",
      "Requirement already satisfied: pandas in /Users/parfait.atchade/.pyenv/versions/3.10.0/lib/python3.10/site-packages (from mesa) (1.3.5)\n",
      "Requirement already satisfied: matplotlib in /Users/parfait.atchade/.pyenv/versions/3.10.0/lib/python3.10/site-packages (from mesa) (3.8.3)\n",
      "Requirement already satisfied: tqdm in /Users/parfait.atchade/.pyenv/versions/3.10.0/lib/python3.10/site-packages (from mesa) (4.66.5)\n",
      "Requirement already satisfied: tornado in /Users/parfait.atchade/.pyenv/versions/3.10.0/lib/python3.10/site-packages (from mesa-viz-tornado>=0.1.3,~=0.1.0->mesa) (6.4)\n",
      "Requirement already satisfied: rich in /Users/parfait.atchade/.pyenv/versions/3.10.0/lib/python3.10/site-packages (from cookiecutter->mesa) (13.9.1)\n",
      "Requirement already satisfied: arrow in /Users/parfait.atchade/.pyenv/versions/3.10.0/lib/python3.10/site-packages (from cookiecutter->mesa) (1.3.0)\n",
      "Requirement already satisfied: binaryornot>=0.4.4 in /Users/parfait.atchade/.pyenv/versions/3.10.0/lib/python3.10/site-packages (from cookiecutter->mesa) (0.4.4)\n",
      "Requirement already satisfied: requests>=2.23.0 in /Users/parfait.atchade/.pyenv/versions/3.10.0/lib/python3.10/site-packages (from cookiecutter->mesa) (2.28.2)\n",
      "Requirement already satisfied: Jinja2<4.0.0,>=2.7 in /Users/parfait.atchade/.pyenv/versions/3.10.0/lib/python3.10/site-packages (from cookiecutter->mesa) (3.1.3)\n",
      "Requirement already satisfied: python-slugify>=4.0.0 in /Users/parfait.atchade/.pyenv/versions/3.10.0/lib/python3.10/site-packages (from cookiecutter->mesa) (8.0.4)\n",
      "Requirement already satisfied: pyyaml>=5.3.1 in /Users/parfait.atchade/.pyenv/versions/3.10.0/lib/python3.10/site-packages (from cookiecutter->mesa) (6.0.2)\n",
      "Requirement already satisfied: chardet>=3.0.2 in /Users/parfait.atchade/.pyenv/versions/3.10.0/lib/python3.10/site-packages (from binaryornot>=0.4.4->cookiecutter->mesa) (5.2.0)\n",
      "Requirement already satisfied: MarkupSafe>=2.0 in /Users/parfait.atchade/.pyenv/versions/3.10.0/lib/python3.10/site-packages (from Jinja2<4.0.0,>=2.7->cookiecutter->mesa) (2.1.5)\n",
      "Requirement already satisfied: text-unidecode>=1.3 in /Users/parfait.atchade/.pyenv/versions/3.10.0/lib/python3.10/site-packages (from python-slugify>=4.0.0->cookiecutter->mesa) (1.3)\n",
      "Requirement already satisfied: charset-normalizer<4,>=2 in /Users/parfait.atchade/.pyenv/versions/3.10.0/lib/python3.10/site-packages (from requests>=2.23.0->cookiecutter->mesa) (3.0.1)\n",
      "Requirement already satisfied: certifi>=2017.4.17 in /Users/parfait.atchade/.pyenv/versions/3.10.0/lib/python3.10/site-packages (from requests>=2.23.0->cookiecutter->mesa) (2024.2.2)\n",
      "Requirement already satisfied: urllib3<1.27,>=1.21.1 in /Users/parfait.atchade/.pyenv/versions/3.10.0/lib/python3.10/site-packages (from requests>=2.23.0->cookiecutter->mesa) (1.26.14)\n",
      "Requirement already satisfied: idna<4,>=2.5 in /Users/parfait.atchade/.pyenv/versions/3.10.0/lib/python3.10/site-packages (from requests>=2.23.0->cookiecutter->mesa) (3.4)\n",
      "Requirement already satisfied: python-dateutil>=2.7.0 in /Users/parfait.atchade/.pyenv/versions/3.10.0/lib/python3.10/site-packages (from arrow->cookiecutter->mesa) (2.8.2)\n",
      "Requirement already satisfied: types-python-dateutil>=2.8.10 in /Users/parfait.atchade/.pyenv/versions/3.10.0/lib/python3.10/site-packages (from arrow->cookiecutter->mesa) (2.9.0.20240821)\n",
      "Requirement already satisfied: six>=1.5 in /Users/parfait.atchade/.pyenv/versions/3.10.0/lib/python3.10/site-packages (from python-dateutil>=2.7.0->arrow->cookiecutter->mesa) (1.16.0)\n",
      "Requirement already satisfied: cycler>=0.10 in /Users/parfait.atchade/.pyenv/versions/3.10.0/lib/python3.10/site-packages (from matplotlib->mesa) (0.12.1)\n",
      "Requirement already satisfied: pyparsing>=2.3.1 in /Users/parfait.atchade/.pyenv/versions/3.10.0/lib/python3.10/site-packages (from matplotlib->mesa) (3.1.1)\n",
      "Requirement already satisfied: fonttools>=4.22.0 in /Users/parfait.atchade/.pyenv/versions/3.10.0/lib/python3.10/site-packages (from matplotlib->mesa) (4.49.0)\n",
      "Requirement already satisfied: packaging>=20.0 in /Users/parfait.atchade/.pyenv/versions/3.10.0/lib/python3.10/site-packages (from matplotlib->mesa) (21.3)\n",
      "Requirement already satisfied: contourpy>=1.0.1 in /Users/parfait.atchade/.pyenv/versions/3.10.0/lib/python3.10/site-packages (from matplotlib->mesa) (1.2.0)\n",
      "Requirement already satisfied: pillow>=8 in /Users/parfait.atchade/.pyenv/versions/3.10.0/lib/python3.10/site-packages (from matplotlib->mesa) (10.2.0)\n",
      "Requirement already satisfied: kiwisolver>=1.3.1 in /Users/parfait.atchade/.pyenv/versions/3.10.0/lib/python3.10/site-packages (from matplotlib->mesa) (1.4.5)\n",
      "Requirement already satisfied: pytz>=2017.3 in /Users/parfait.atchade/.pyenv/versions/3.10.0/lib/python3.10/site-packages (from pandas->mesa) (2022.7.1)\n",
      "Requirement already satisfied: pygments<3.0.0,>=2.13.0 in /Users/parfait.atchade/.pyenv/versions/3.10.0/lib/python3.10/site-packages (from rich->cookiecutter->mesa) (2.17.2)\n",
      "Requirement already satisfied: markdown-it-py>=2.2.0 in /Users/parfait.atchade/.pyenv/versions/3.10.0/lib/python3.10/site-packages (from rich->cookiecutter->mesa) (3.0.0)\n",
      "Requirement already satisfied: typing-extensions<5.0,>=4.0.0 in /Users/parfait.atchade/.pyenv/versions/3.10.0/lib/python3.10/site-packages (from rich->cookiecutter->mesa) (4.9.0)\n",
      "Requirement already satisfied: mdurl~=0.1 in /Users/parfait.atchade/.pyenv/versions/3.10.0/lib/python3.10/site-packages (from markdown-it-py>=2.2.0->rich->cookiecutter->mesa) (0.1.2)\n",
      "Requirement already satisfied: solara-ui[all]==1.39.0 in /Users/parfait.atchade/.pyenv/versions/3.10.0/lib/python3.10/site-packages (from solara->mesa) (1.39.0)\n",
      "Requirement already satisfied: solara-server[dev,starlette]==1.39.0 in /Users/parfait.atchade/.pyenv/versions/3.10.0/lib/python3.10/site-packages (from solara->mesa) (1.39.0)\n",
      "Requirement already satisfied: jupyter-client>=7.0.0 in /Users/parfait.atchade/.pyenv/versions/3.10.0/lib/python3.10/site-packages (from solara-server[dev,starlette]==1.39.0->solara->mesa) (8.6.0)\n",
      "Requirement already satisfied: ipykernel in /Users/parfait.atchade/.pyenv/versions/3.10.0/lib/python3.10/site-packages (from solara-server[dev,starlette]==1.39.0->solara->mesa) (6.29.2)\n",
      "Requirement already satisfied: rich-click in /Users/parfait.atchade/.pyenv/versions/3.10.0/lib/python3.10/site-packages (from solara-server[dev,starlette]==1.39.0->solara->mesa) (1.8.3)\n",
      "Requirement already satisfied: filelock in /Users/parfait.atchade/.pyenv/versions/3.10.0/lib/python3.10/site-packages (from solara-server[dev,starlette]==1.39.0->solara->mesa) (3.13.1)\n",
      "Requirement already satisfied: nbformat in /Users/parfait.atchade/.pyenv/versions/3.10.0/lib/python3.10/site-packages (from solara-server[dev,starlette]==1.39.0->solara->mesa) (5.10.4)\n",
      "Requirement already satisfied: uvicorn in /Users/parfait.atchade/.pyenv/versions/3.10.0/lib/python3.10/site-packages (from solara-server[dev,starlette]==1.39.0->solara->mesa) (0.31.0)\n",
      "Requirement already satisfied: websockets in /Users/parfait.atchade/.pyenv/versions/3.10.0/lib/python3.10/site-packages (from solara-server[dev,starlette]==1.39.0->solara->mesa) (12.0)\n",
      "Requirement already satisfied: starlette in /Users/parfait.atchade/.pyenv/versions/3.10.0/lib/python3.10/site-packages (from solara-server[dev,starlette]==1.39.0->solara->mesa) (0.39.2)\n",
      "Requirement already satisfied: watchfiles in /Users/parfait.atchade/.pyenv/versions/3.10.0/lib/python3.10/site-packages (from solara-server[dev,starlette]==1.39.0->solara->mesa) (0.24.0)\n",
      "Requirement already satisfied: watchdog in /Users/parfait.atchade/.pyenv/versions/3.10.0/lib/python3.10/site-packages (from solara-server[dev,starlette]==1.39.0->solara->mesa) (5.0.3)\n",
      "Requirement already satisfied: ipyvuetify>=1.6.10 in /Users/parfait.atchade/.pyenv/versions/3.10.0/lib/python3.10/site-packages (from solara-ui[all]==1.39.0->solara->mesa) (1.10.0)\n",
      "Requirement already satisfied: reacton>=1.7.1 in /Users/parfait.atchade/.pyenv/versions/3.10.0/lib/python3.10/site-packages (from solara-ui[all]==1.39.0->solara->mesa) (1.8.3)\n",
      "Requirement already satisfied: humanize in /Users/parfait.atchade/.pyenv/versions/3.10.0/lib/python3.10/site-packages (from solara-ui[all]==1.39.0->solara->mesa) (4.10.0)\n",
      "Requirement already satisfied: ipywidgets>=7.7 in /Users/parfait.atchade/.pyenv/versions/3.10.0/lib/python3.10/site-packages (from solara-ui[all]==1.39.0->solara->mesa) (8.1.5)\n",
      "Requirement already satisfied: ipyvue>=1.9.0 in /Users/parfait.atchade/.pyenv/versions/3.10.0/lib/python3.10/site-packages (from solara-ui[all]==1.39.0->solara->mesa) (1.11.1)\n",
      "Requirement already satisfied: comm>=0.1.3 in /Users/parfait.atchade/.pyenv/versions/3.10.0/lib/python3.10/site-packages (from ipywidgets>=7.7->solara-ui[all]==1.39.0->solara->mesa) (0.2.1)\n",
      "Requirement already satisfied: ipython>=6.1.0 in /Users/parfait.atchade/.pyenv/versions/3.10.0/lib/python3.10/site-packages (from ipywidgets>=7.7->solara-ui[all]==1.39.0->solara->mesa) (8.21.0)\n",
      "Requirement already satisfied: widgetsnbextension~=4.0.12 in /Users/parfait.atchade/.pyenv/versions/3.10.0/lib/python3.10/site-packages (from ipywidgets>=7.7->solara-ui[all]==1.39.0->solara->mesa) (4.0.13)\n",
      "Requirement already satisfied: jupyterlab-widgets~=3.0.12 in /Users/parfait.atchade/.pyenv/versions/3.10.0/lib/python3.10/site-packages (from ipywidgets>=7.7->solara-ui[all]==1.39.0->solara->mesa) (3.0.13)\n",
      "Requirement already satisfied: traitlets>=4.3.1 in /Users/parfait.atchade/.pyenv/versions/3.10.0/lib/python3.10/site-packages (from ipywidgets>=7.7->solara-ui[all]==1.39.0->solara->mesa) (5.14.1)\n",
      "Requirement already satisfied: prompt-toolkit<3.1.0,>=3.0.41 in /Users/parfait.atchade/.pyenv/versions/3.10.0/lib/python3.10/site-packages (from ipython>=6.1.0->ipywidgets>=7.7->solara-ui[all]==1.39.0->solara->mesa) (3.0.43)\n",
      "Requirement already satisfied: decorator in /Users/parfait.atchade/.pyenv/versions/3.10.0/lib/python3.10/site-packages (from ipython>=6.1.0->ipywidgets>=7.7->solara-ui[all]==1.39.0->solara->mesa) (5.1.1)\n",
      "Requirement already satisfied: stack-data in /Users/parfait.atchade/.pyenv/versions/3.10.0/lib/python3.10/site-packages (from ipython>=6.1.0->ipywidgets>=7.7->solara-ui[all]==1.39.0->solara->mesa) (0.6.3)\n",
      "Requirement already satisfied: matplotlib-inline in /Users/parfait.atchade/.pyenv/versions/3.10.0/lib/python3.10/site-packages (from ipython>=6.1.0->ipywidgets>=7.7->solara-ui[all]==1.39.0->solara->mesa) (0.1.6)\n",
      "Requirement already satisfied: pexpect>4.3 in /Users/parfait.atchade/.pyenv/versions/3.10.0/lib/python3.10/site-packages (from ipython>=6.1.0->ipywidgets>=7.7->solara-ui[all]==1.39.0->solara->mesa) (4.9.0)\n",
      "Requirement already satisfied: jedi>=0.16 in /Users/parfait.atchade/.pyenv/versions/3.10.0/lib/python3.10/site-packages (from ipython>=6.1.0->ipywidgets>=7.7->solara-ui[all]==1.39.0->solara->mesa) (0.19.1)\n",
      "Requirement already satisfied: exceptiongroup in /Users/parfait.atchade/.pyenv/versions/3.10.0/lib/python3.10/site-packages (from ipython>=6.1.0->ipywidgets>=7.7->solara-ui[all]==1.39.0->solara->mesa) (1.2.2)\n",
      "Requirement already satisfied: parso<0.9.0,>=0.8.3 in /Users/parfait.atchade/.pyenv/versions/3.10.0/lib/python3.10/site-packages (from jedi>=0.16->ipython>=6.1.0->ipywidgets>=7.7->solara-ui[all]==1.39.0->solara->mesa) (0.8.3)\n",
      "Requirement already satisfied: jupyter-core!=5.0.*,>=4.12 in /Users/parfait.atchade/.pyenv/versions/3.10.0/lib/python3.10/site-packages (from jupyter-client>=7.0.0->solara-server[dev,starlette]==1.39.0->solara->mesa) (5.7.1)\n",
      "Requirement already satisfied: pyzmq>=23.0 in /Users/parfait.atchade/.pyenv/versions/3.10.0/lib/python3.10/site-packages (from jupyter-client>=7.0.0->solara-server[dev,starlette]==1.39.0->solara->mesa) (25.1.2)\n",
      "Requirement already satisfied: platformdirs>=2.5 in /Users/parfait.atchade/.pyenv/versions/3.10.0/lib/python3.10/site-packages (from jupyter-core!=5.0.*,>=4.12->jupyter-client>=7.0.0->solara-server[dev,starlette]==1.39.0->solara->mesa) (4.2.0)\n",
      "Requirement already satisfied: ptyprocess>=0.5 in /Users/parfait.atchade/.pyenv/versions/3.10.0/lib/python3.10/site-packages (from pexpect>4.3->ipython>=6.1.0->ipywidgets>=7.7->solara-ui[all]==1.39.0->solara->mesa) (0.7.0)\n",
      "Requirement already satisfied: wcwidth in /Users/parfait.atchade/.pyenv/versions/3.10.0/lib/python3.10/site-packages (from prompt-toolkit<3.1.0,>=3.0.41->ipython>=6.1.0->ipywidgets>=7.7->solara-ui[all]==1.39.0->solara->mesa) (0.2.13)\n",
      "Requirement already satisfied: psutil in /Users/parfait.atchade/.pyenv/versions/3.10.0/lib/python3.10/site-packages (from ipykernel->solara-server[dev,starlette]==1.39.0->solara->mesa) (5.9.8)\n",
      "Requirement already satisfied: debugpy>=1.6.5 in /Users/parfait.atchade/.pyenv/versions/3.10.0/lib/python3.10/site-packages (from ipykernel->solara-server[dev,starlette]==1.39.0->solara->mesa) (1.8.1)\n",
      "Requirement already satisfied: nest-asyncio in /Users/parfait.atchade/.pyenv/versions/3.10.0/lib/python3.10/site-packages (from ipykernel->solara-server[dev,starlette]==1.39.0->solara->mesa) (1.6.0)\n",
      "Requirement already satisfied: appnope in /Users/parfait.atchade/.pyenv/versions/3.10.0/lib/python3.10/site-packages (from ipykernel->solara-server[dev,starlette]==1.39.0->solara->mesa) (0.1.4)\n",
      "Requirement already satisfied: jsonschema>=2.6 in /Users/parfait.atchade/.pyenv/versions/3.10.0/lib/python3.10/site-packages (from nbformat->solara-server[dev,starlette]==1.39.0->solara->mesa) (4.23.0)\n",
      "Requirement already satisfied: fastjsonschema>=2.15 in /Users/parfait.atchade/.pyenv/versions/3.10.0/lib/python3.10/site-packages (from nbformat->solara-server[dev,starlette]==1.39.0->solara->mesa) (2.20.0)\n",
      "Requirement already satisfied: jsonschema-specifications>=2023.03.6 in /Users/parfait.atchade/.pyenv/versions/3.10.0/lib/python3.10/site-packages (from jsonschema>=2.6->nbformat->solara-server[dev,starlette]==1.39.0->solara->mesa) (2023.12.1)\n",
      "Requirement already satisfied: rpds-py>=0.7.1 in /Users/parfait.atchade/.pyenv/versions/3.10.0/lib/python3.10/site-packages (from jsonschema>=2.6->nbformat->solara-server[dev,starlette]==1.39.0->solara->mesa) (0.20.0)\n",
      "Requirement already satisfied: referencing>=0.28.4 in /Users/parfait.atchade/.pyenv/versions/3.10.0/lib/python3.10/site-packages (from jsonschema>=2.6->nbformat->solara-server[dev,starlette]==1.39.0->solara->mesa) (0.35.1)\n",
      "Requirement already satisfied: attrs>=22.2.0 in /Users/parfait.atchade/.pyenv/versions/3.10.0/lib/python3.10/site-packages (from jsonschema>=2.6->nbformat->solara-server[dev,starlette]==1.39.0->solara->mesa) (24.2.0)\n",
      "Requirement already satisfied: cachetools in /Users/parfait.atchade/.pyenv/versions/3.10.0/lib/python3.10/site-packages (from solara-ui[all]==1.39.0->solara->mesa) (5.3.2)\n",
      "Requirement already satisfied: pymdown-extensions in /Users/parfait.atchade/.pyenv/versions/3.10.0/lib/python3.10/site-packages (from solara-ui[all]==1.39.0->solara->mesa) (10.11.1)\n",
      "Requirement already satisfied: markdown in /Users/parfait.atchade/.pyenv/versions/3.10.0/lib/python3.10/site-packages (from solara-ui[all]==1.39.0->solara->mesa) (3.7)\n",
      "Requirement already satisfied: executing>=1.2.0 in /Users/parfait.atchade/.pyenv/versions/3.10.0/lib/python3.10/site-packages (from stack-data->ipython>=6.1.0->ipywidgets>=7.7->solara-ui[all]==1.39.0->solara->mesa) (2.0.1)\n",
      "Requirement already satisfied: asttokens>=2.1.0 in /Users/parfait.atchade/.pyenv/versions/3.10.0/lib/python3.10/site-packages (from stack-data->ipython>=6.1.0->ipywidgets>=7.7->solara-ui[all]==1.39.0->solara->mesa) (2.4.1)\n",
      "Requirement already satisfied: pure-eval in /Users/parfait.atchade/.pyenv/versions/3.10.0/lib/python3.10/site-packages (from stack-data->ipython>=6.1.0->ipywidgets>=7.7->solara-ui[all]==1.39.0->solara->mesa) (0.2.2)\n",
      "Requirement already satisfied: anyio<5,>=3.4.0 in /Users/parfait.atchade/.pyenv/versions/3.10.0/lib/python3.10/site-packages (from starlette->solara-server[dev,starlette]==1.39.0->solara->mesa) (4.2.0)\n",
      "Requirement already satisfied: sniffio>=1.1 in /Users/parfait.atchade/.pyenv/versions/3.10.0/lib/python3.10/site-packages (from anyio<5,>=3.4.0->starlette->solara-server[dev,starlette]==1.39.0->solara->mesa) (1.3.0)\n",
      "Requirement already satisfied: h11>=0.8 in /Users/parfait.atchade/.pyenv/versions/3.10.0/lib/python3.10/site-packages (from uvicorn->solara-server[dev,starlette]==1.39.0->solara->mesa) (0.14.0)\n",
      "\u001b[33mWARNING: You are using pip version 21.2.3; however, version 24.2 is available.\n",
      "You should consider upgrading via the '/Users/parfait.atchade/.pyenv/versions/3.10.0/bin/python -m pip install --upgrade pip' command.\u001b[0m\n",
      "Requirement already satisfied: ollama in /Users/parfait.atchade/.pyenv/versions/3.10.0/lib/python3.10/site-packages (0.3.3)\n",
      "Requirement already satisfied: httpx<0.28.0,>=0.27.0 in /Users/parfait.atchade/.pyenv/versions/3.10.0/lib/python3.10/site-packages (from ollama) (0.27.2)\n",
      "Requirement already satisfied: idna in /Users/parfait.atchade/.pyenv/versions/3.10.0/lib/python3.10/site-packages (from httpx<0.28.0,>=0.27.0->ollama) (3.4)\n",
      "Requirement already satisfied: certifi in /Users/parfait.atchade/.pyenv/versions/3.10.0/lib/python3.10/site-packages (from httpx<0.28.0,>=0.27.0->ollama) (2024.2.2)\n",
      "Requirement already satisfied: sniffio in /Users/parfait.atchade/.pyenv/versions/3.10.0/lib/python3.10/site-packages (from httpx<0.28.0,>=0.27.0->ollama) (1.3.0)\n",
      "Requirement already satisfied: anyio in /Users/parfait.atchade/.pyenv/versions/3.10.0/lib/python3.10/site-packages (from httpx<0.28.0,>=0.27.0->ollama) (4.2.0)\n",
      "Requirement already satisfied: httpcore==1.* in /Users/parfait.atchade/.pyenv/versions/3.10.0/lib/python3.10/site-packages (from httpx<0.28.0,>=0.27.0->ollama) (1.0.3)\n",
      "Requirement already satisfied: h11<0.15,>=0.13 in /Users/parfait.atchade/.pyenv/versions/3.10.0/lib/python3.10/site-packages (from httpcore==1.*->httpx<0.28.0,>=0.27.0->ollama) (0.14.0)\n",
      "Requirement already satisfied: typing-extensions>=4.1 in /Users/parfait.atchade/.pyenv/versions/3.10.0/lib/python3.10/site-packages (from anyio->httpx<0.28.0,>=0.27.0->ollama) (4.9.0)\n",
      "Requirement already satisfied: exceptiongroup>=1.0.2 in /Users/parfait.atchade/.pyenv/versions/3.10.0/lib/python3.10/site-packages (from anyio->httpx<0.28.0,>=0.27.0->ollama) (1.2.2)\n",
      "\u001b[33mWARNING: You are using pip version 21.2.3; however, version 24.2 is available.\n",
      "You should consider upgrading via the '/Users/parfait.atchade/.pyenv/versions/3.10.0/bin/python -m pip install --upgrade pip' command.\u001b[0m\n"
     ]
    }
   ],
   "source": [
    "import sys\n",
    "!{sys.executable} -m pip install mesa\n",
    "!{sys.executable} -m pip install ollama"
   ]
  },
  {
   "cell_type": "code",
   "execution_count": 2,
   "metadata": {},
   "outputs": [
    {
     "name": "stdout",
     "output_type": "stream",
     "text": [
      "Interface starting at http://127.0.0.1:8521\n"
     ]
    },
    {
     "ename": "RuntimeError",
     "evalue": "This event loop is already running",
     "output_type": "error",
     "traceback": [
      "\u001b[0;31m---------------------------------------------------------------------------\u001b[0m",
      "\u001b[0;31mRuntimeError\u001b[0m                              Traceback (most recent call last)",
      "Cell \u001b[0;32mIn[2], line 21\u001b[0m\n\u001b[1;32m     18\u001b[0m \u001b[38;5;28;01mfrom\u001b[39;00m \u001b[38;5;21;01mabm\u001b[39;00m \u001b[38;5;28;01mimport\u001b[39;00m TalkingAgentsABM\n\u001b[1;32m     20\u001b[0m abm \u001b[38;5;241m=\u001b[39m TalkingAgentsABM(policy_to_discuss, positive_perception, negative_perception)\n\u001b[0;32m---> 21\u001b[0m \u001b[43mabm\u001b[49m\u001b[38;5;241;43m.\u001b[39;49m\u001b[43mget_abm_server\u001b[49m\u001b[43m(\u001b[49m\u001b[43m)\u001b[49m\u001b[38;5;241;43m.\u001b[39;49m\u001b[43mlaunch\u001b[49m\u001b[43m(\u001b[49m\u001b[43m)\u001b[49m\n",
      "File \u001b[0;32m~/.pyenv/versions/3.10.0/lib/python3.10/site-packages/mesa_viz_tornado/ModularVisualization.py:407\u001b[0m, in \u001b[0;36mModularServer.launch\u001b[0;34m(self, port, open_browser)\u001b[0m\n\u001b[1;32m    405\u001b[0m tornado\u001b[38;5;241m.\u001b[39mautoreload\u001b[38;5;241m.\u001b[39mstart()\n\u001b[1;32m    406\u001b[0m \u001b[38;5;28;01mtry\u001b[39;00m:\n\u001b[0;32m--> 407\u001b[0m     \u001b[43mtornado\u001b[49m\u001b[38;5;241;43m.\u001b[39;49m\u001b[43mioloop\u001b[49m\u001b[38;5;241;43m.\u001b[39;49m\u001b[43mIOLoop\u001b[49m\u001b[38;5;241;43m.\u001b[39;49m\u001b[43mcurrent\u001b[49m\u001b[43m(\u001b[49m\u001b[43m)\u001b[49m\u001b[38;5;241;43m.\u001b[39;49m\u001b[43mstart\u001b[49m\u001b[43m(\u001b[49m\u001b[43m)\u001b[49m\n\u001b[1;32m    408\u001b[0m \u001b[38;5;28;01mexcept\u001b[39;00m \u001b[38;5;167;01mKeyboardInterrupt\u001b[39;00m:\n\u001b[1;32m    409\u001b[0m     tornado\u001b[38;5;241m.\u001b[39mioloop\u001b[38;5;241m.\u001b[39mIOLoop\u001b[38;5;241m.\u001b[39mcurrent()\u001b[38;5;241m.\u001b[39mstop()\n",
      "File \u001b[0;32m~/.pyenv/versions/3.10.0/lib/python3.10/site-packages/tornado/platform/asyncio.py:205\u001b[0m, in \u001b[0;36mBaseAsyncIOLoop.start\u001b[0;34m(self)\u001b[0m\n\u001b[1;32m    204\u001b[0m \u001b[38;5;28;01mdef\u001b[39;00m \u001b[38;5;21mstart\u001b[39m(\u001b[38;5;28mself\u001b[39m) \u001b[38;5;241m-\u001b[39m\u001b[38;5;241m>\u001b[39m \u001b[38;5;28;01mNone\u001b[39;00m:\n\u001b[0;32m--> 205\u001b[0m     \u001b[38;5;28;43mself\u001b[39;49m\u001b[38;5;241;43m.\u001b[39;49m\u001b[43masyncio_loop\u001b[49m\u001b[38;5;241;43m.\u001b[39;49m\u001b[43mrun_forever\u001b[49m\u001b[43m(\u001b[49m\u001b[43m)\u001b[49m\n",
      "File \u001b[0;32m~/.pyenv/versions/3.10.0/lib/python3.10/asyncio/base_events.py:585\u001b[0m, in \u001b[0;36mBaseEventLoop.run_forever\u001b[0;34m(self)\u001b[0m\n\u001b[1;32m    583\u001b[0m \u001b[38;5;250m\u001b[39m\u001b[38;5;124;03m\"\"\"Run until stop() is called.\"\"\"\u001b[39;00m\n\u001b[1;32m    584\u001b[0m \u001b[38;5;28mself\u001b[39m\u001b[38;5;241m.\u001b[39m_check_closed()\n\u001b[0;32m--> 585\u001b[0m \u001b[38;5;28;43mself\u001b[39;49m\u001b[38;5;241;43m.\u001b[39;49m\u001b[43m_check_running\u001b[49m\u001b[43m(\u001b[49m\u001b[43m)\u001b[49m\n\u001b[1;32m    586\u001b[0m \u001b[38;5;28mself\u001b[39m\u001b[38;5;241m.\u001b[39m_set_coroutine_origin_tracking(\u001b[38;5;28mself\u001b[39m\u001b[38;5;241m.\u001b[39m_debug)\n\u001b[1;32m    587\u001b[0m \u001b[38;5;28mself\u001b[39m\u001b[38;5;241m.\u001b[39m_thread_id \u001b[38;5;241m=\u001b[39m threading\u001b[38;5;241m.\u001b[39mget_ident()\n",
      "File \u001b[0;32m~/.pyenv/versions/3.10.0/lib/python3.10/asyncio/base_events.py:577\u001b[0m, in \u001b[0;36mBaseEventLoop._check_running\u001b[0;34m(self)\u001b[0m\n\u001b[1;32m    575\u001b[0m \u001b[38;5;28;01mdef\u001b[39;00m \u001b[38;5;21m_check_running\u001b[39m(\u001b[38;5;28mself\u001b[39m):\n\u001b[1;32m    576\u001b[0m     \u001b[38;5;28;01mif\u001b[39;00m \u001b[38;5;28mself\u001b[39m\u001b[38;5;241m.\u001b[39mis_running():\n\u001b[0;32m--> 577\u001b[0m         \u001b[38;5;28;01mraise\u001b[39;00m \u001b[38;5;167;01mRuntimeError\u001b[39;00m(\u001b[38;5;124m'\u001b[39m\u001b[38;5;124mThis event loop is already running\u001b[39m\u001b[38;5;124m'\u001b[39m)\n\u001b[1;32m    578\u001b[0m     \u001b[38;5;28;01mif\u001b[39;00m events\u001b[38;5;241m.\u001b[39m_get_running_loop() \u001b[38;5;129;01mis\u001b[39;00m \u001b[38;5;129;01mnot\u001b[39;00m \u001b[38;5;28;01mNone\u001b[39;00m:\n\u001b[1;32m    579\u001b[0m         \u001b[38;5;28;01mraise\u001b[39;00m \u001b[38;5;167;01mRuntimeError\u001b[39;00m(\n\u001b[1;32m    580\u001b[0m             \u001b[38;5;124m'\u001b[39m\u001b[38;5;124mCannot run the event loop while another loop is running\u001b[39m\u001b[38;5;124m'\u001b[39m)\n",
      "\u001b[0;31mRuntimeError\u001b[0m: This event loop is already running"
     ]
    },
    {
     "name": "stdout",
     "output_type": "stream",
     "text": [
      "Socket opened!\n",
      "{\"type\":\"reset\"}\n"
     ]
    },
    {
     "name": "stderr",
     "output_type": "stream",
     "text": [
      "WARNING:tornado.access:404 GET /favicon.ico (127.0.0.1) 1.44ms\n"
     ]
    }
   ],
   "source": [
    "policy_to_discuss = '''\n",
    "Should MIT require all students to take a class on ethics?\n",
    "'''\n",
    "\n",
    "positive_perception = '''\n",
    "Ethics is a fundamental part of any profession. It is important for students to understand the ethical implications of their work.\n",
    "'''\n",
    "\n",
    "negative_perception = '''\n",
    "Students are already overburdened with classes. Adding another requirement would be too much.\n",
    "'''\n",
    "\n",
    "# scenario 1: neutrals talk with positive and negative (only neutrals change their opinion)\n",
    "# scenario 2: negatives talk with positive and neutral (only negatives change their opinion)\n",
    "# scenario 3: positives talk with neutral and negative (only positives change their opinion)\n",
    "# scenario 4: everyone talks with everyone\n",
    "\n",
    "from abm import TalkingAgentsABM\n",
    "\n",
    "abm = TalkingAgentsABM(policy_to_discuss, positive_perception, negative_perception)\n",
    "abm.get_abm_server().launch()"
   ]
  },
  {
   "cell_type": "code",
   "execution_count": null,
   "metadata": {},
   "outputs": [],
   "source": []
  }
 ],
 "metadata": {
  "kernelspec": {
   "display_name": "Python 3",
   "language": "python",
   "name": "python3"
  },
  "language_info": {
   "codemirror_mode": {
    "name": "ipython",
    "version": 3
   },
   "file_extension": ".py",
   "mimetype": "text/x-python",
   "name": "python",
   "nbconvert_exporter": "python",
   "pygments_lexer": "ipython3",
   "version": "3.10.0"
  }
 },
 "nbformat": 4,
 "nbformat_minor": 2
}
